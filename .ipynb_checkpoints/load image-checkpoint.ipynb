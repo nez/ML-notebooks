{
 "cells": [
  {
   "cell_type": "code",
   "execution_count": 35,
   "id": "5fb48812",
   "metadata": {},
   "outputs": [
    {
     "ename": "TypeError",
     "evalue": "'torch.Size' object is not callable",
     "output_type": "error",
     "traceback": [
      "\u001b[0;31m---------------------------------------------------------------------------\u001b[0m",
      "\u001b[0;31mTypeError\u001b[0m                                 Traceback (most recent call last)",
      "Cell \u001b[0;32mIn[35], line 12\u001b[0m\n\u001b[1;32m      8\u001b[0m learn \u001b[38;5;241m=\u001b[39m load_learner(\u001b[38;5;124m\"\u001b[39m\u001b[38;5;124m/home/nex/rc-projects/streets.pkl\u001b[39m\u001b[38;5;124m\"\u001b[39m)\n\u001b[1;32m      9\u001b[0m \u001b[38;5;66;03m#preds, _, _ = learn.predict(img_tensor)\u001b[39;00m\n\u001b[1;32m     10\u001b[0m \u001b[38;5;66;03m#labels = learn.dls.vocab[preds.argmax()]\u001b[39;00m\n\u001b[1;32m     11\u001b[0m \u001b[38;5;66;03m#print(labels)\u001b[39;00m\n\u001b[0;32m---> 12\u001b[0m \u001b[43mimg_tensor\u001b[49m\u001b[38;5;241;43m.\u001b[39;49m\u001b[43mshape\u001b[49m\u001b[43m(\u001b[49m\u001b[43m)\u001b[49m\n",
      "\u001b[0;31mTypeError\u001b[0m: 'torch.Size' object is not callable"
     ]
    }
   ],
   "source": [
    "from fastai.vision.all import *\n",
    "import PIL\n",
    "\n",
    "img = PIL.Image.open('/home/nex/rc-projects/ML-notebooks/images/andres/andres.jpeg')\n",
    "img_resized = img.resize((224, 224))  # resize the image to match the input size of your model\n",
    "img_tensor = tensor(np.array(img_resized)).permute(2, 0, 1).float() / 255  # convert the image to a tensor and normalize pixel values\n",
    "def label_func(fn): return path/\"labels\"/f\"{fn.stem}_P{fn.suffix}\"\n",
    "learn = load_learner(\"/home/nex/rc-projects/streets.pkl\")\n",
    "#preds, _, _ = learn.predict(img_tensor)\n",
    "#labels = learn.dls.vocab[preds.argmax()]\n",
    "#print(labels)\n",
    "#img_tensor.shape()"
   ]
  },
  {
   "cell_type": "code",
   "execution_count": 22,
   "id": "4fbc7d9f",
   "metadata": {
    "scrolled": true
   },
   "outputs": [],
   "source": [
    "%matplotlib inline\n",
    "\n",
    "import fastai\n",
    "import cv2\n",
    "#import matplotlib.pyplot as pltimport\n",
    "#import torch\n",
    "#from torchvision import datasets, transforms\n",
    "\n",
    "transform = transforms.Compose([transforms.Resize(255),\n",
    "                                transforms.CenterCrop(224),\n",
    "                                transforms.ToTensor()])\n",
    "dataset = datasets.ImageFolder('images', transform=transform)\n",
    "dataloader = torch.utils.data.DataLoader(dataset, batch_size=32, shuffle=True)"
   ]
  },
  {
   "cell_type": "code",
   "execution_count": 23,
   "id": "2664ab13",
   "metadata": {},
   "outputs": [],
   "source": [
    "images, labels = next(iter(dataloader))\n"
   ]
  },
  {
   "cell_type": "code",
   "execution_count": 24,
   "id": "aa8c17cf",
   "metadata": {
    "scrolled": true
   },
   "outputs": [
    {
     "data": {
      "text/plain": [
       "tensor([[[0.7255, 0.7294, 0.7294,  ..., 0.6157, 0.6039, 0.5882],\n",
       "         [0.7255, 0.7294, 0.7294,  ..., 0.6157, 0.6039, 0.5882],\n",
       "         [0.7255, 0.7294, 0.7294,  ..., 0.6196, 0.6078, 0.5922],\n",
       "         ...,\n",
       "         [0.0706, 0.0431, 0.0392,  ..., 0.0471, 0.0431, 0.0431],\n",
       "         [0.0667, 0.0392, 0.0353,  ..., 0.0431, 0.0431, 0.0431],\n",
       "         [0.0588, 0.0353, 0.0353,  ..., 0.0431, 0.0431, 0.0471]],\n",
       "\n",
       "        [[0.7451, 0.7490, 0.7490,  ..., 0.5843, 0.5725, 0.5569],\n",
       "         [0.7451, 0.7490, 0.7490,  ..., 0.5843, 0.5725, 0.5569],\n",
       "         [0.7451, 0.7490, 0.7490,  ..., 0.5882, 0.5765, 0.5608],\n",
       "         ...,\n",
       "         [0.0824, 0.0549, 0.0510,  ..., 0.0471, 0.0431, 0.0431],\n",
       "         [0.0784, 0.0510, 0.0471,  ..., 0.0431, 0.0431, 0.0431],\n",
       "         [0.0706, 0.0471, 0.0471,  ..., 0.0392, 0.0431, 0.0471]],\n",
       "\n",
       "        [[0.7608, 0.7647, 0.7647,  ..., 0.5373, 0.5216, 0.5059],\n",
       "         [0.7608, 0.7647, 0.7647,  ..., 0.5373, 0.5216, 0.5059],\n",
       "         [0.7608, 0.7647, 0.7647,  ..., 0.5412, 0.5255, 0.5098],\n",
       "         ...,\n",
       "         [0.1176, 0.0902, 0.0863,  ..., 0.0471, 0.0431, 0.0431],\n",
       "         [0.1137, 0.0863, 0.0824,  ..., 0.0471, 0.0392, 0.0431],\n",
       "         [0.1059, 0.0784, 0.0745,  ..., 0.0510, 0.0510, 0.0549]]])"
      ]
     },
     "execution_count": 24,
     "metadata": {},
     "output_type": "execute_result"
    }
   ],
   "source": [
    "images[0]"
   ]
  },
  {
   "cell_type": "code",
   "execution_count": 26,
   "id": "fc481a22",
   "metadata": {},
   "outputs": [
    {
     "data": {
      "text/plain": [
       "torch.Size([3, 224, 224])"
      ]
     },
     "execution_count": 26,
     "metadata": {},
     "output_type": "execute_result"
    }
   ],
   "source": [
    "images[0].shape"
   ]
  },
  {
   "cell_type": "code",
   "execution_count": 25,
   "id": "5e34ee19",
   "metadata": {
    "scrolled": true
   },
   "outputs": [
    {
     "ename": "TypeError",
     "evalue": "Can't convert object to 'str' for 'filename'",
     "output_type": "error",
     "traceback": [
      "\u001b[0;31m---------------------------------------------------------------------------\u001b[0m",
      "\u001b[0;31mTypeError\u001b[0m                                 Traceback (most recent call last)",
      "Cell \u001b[0;32mIn[25], line 1\u001b[0m\n\u001b[0;32m----> 1\u001b[0m \u001b[43mcv2\u001b[49m\u001b[38;5;241;43m.\u001b[39;49m\u001b[43mimread\u001b[49m\u001b[43m(\u001b[49m\u001b[43mimages\u001b[49m\u001b[43m[\u001b[49m\u001b[38;5;241;43m0\u001b[39;49m\u001b[43m]\u001b[49m\u001b[43m)\u001b[49m\n",
      "\u001b[0;31mTypeError\u001b[0m: Can't convert object to 'str' for 'filename'"
     ]
    }
   ],
   "source": [
    "cv2.imread(images[0])"
   ]
  },
  {
   "cell_type": "code",
   "execution_count": 28,
   "id": "94f1d19b",
   "metadata": {},
   "outputs": [
    {
     "ename": "AttributeError",
     "evalue": "'ImageFolder' object has no attribute 'show_batch'",
     "output_type": "error",
     "traceback": [
      "\u001b[0;31m---------------------------------------------------------------------------\u001b[0m",
      "\u001b[0;31mAttributeError\u001b[0m                            Traceback (most recent call last)",
      "Cell \u001b[0;32mIn[28], line 1\u001b[0m\n\u001b[0;32m----> 1\u001b[0m \u001b[43mdataset\u001b[49m\u001b[38;5;241;43m.\u001b[39;49m\u001b[43mshow_batch\u001b[49m()\n",
      "\u001b[0;31mAttributeError\u001b[0m: 'ImageFolder' object has no attribute 'show_batch'"
     ]
    }
   ],
   "source": [
    "dataset.show_batch()"
   ]
  }
 ],
 "metadata": {
  "kernelspec": {
   "display_name": "Python 3 (ipykernel)",
   "language": "python",
   "name": "python3"
  },
  "language_info": {
   "codemirror_mode": {
    "name": "ipython",
    "version": 3
   },
   "file_extension": ".py",
   "mimetype": "text/x-python",
   "name": "python",
   "nbconvert_exporter": "python",
   "pygments_lexer": "ipython3",
   "version": "3.8.10"
  }
 },
 "nbformat": 4,
 "nbformat_minor": 5
}
